{
 "cells": [
  {
   "cell_type": "code",
   "execution_count": 1,
   "id": "59c2141b",
   "metadata": {},
   "outputs": [
    {
     "data": {
      "text/plain": [
       "'\\n참고사이트\\n    https://hanryang1125.tistory.com/9\\n'"
      ]
     },
     "execution_count": 1,
     "metadata": {},
     "output_type": "execute_result"
    }
   ],
   "source": [
    "\"\"\"\n",
    "참고사이트\n",
    "    https://hanryang1125.tistory.com/9\n",
    "\"\"\""
   ]
  },
  {
   "cell_type": "code",
   "execution_count": 1,
   "id": "0fdec82d",
   "metadata": {},
   "outputs": [],
   "source": [
    "import cv2\n",
    "import numpy as np"
   ]
  },
  {
   "cell_type": "code",
   "execution_count": 2,
   "id": "1920759e",
   "metadata": {},
   "outputs": [],
   "source": [
    "def yolo(frame, size, score_threshold, nms_threshold):\n",
    "    # YOLO 네트워크 불러오기\n",
    "    net = cv2.dnn.readNet(f\"yolov3_{size}.weights\", \"yolov3.cfg\")\n",
    "    layer_names = net.getLayerNames()\n",
    "    output_layers = [layer_names[i[0] - 1] for i in net.getUnconnectedOutLayers()]\n",
    "\n",
    "    # 클래스의 갯수만큼 랜덤 RGB 배열을 생성\n",
    "    colors = np.random.uniform(0, 255, size=(len(classes), 3))\n",
    "\n",
    "    # 이미지의 높이, 너비, 채널 받아오기\n",
    "    height, width, channels = frame.shape\n",
    "\n",
    "    # 네트워크에 넣기 위한 전처리\n",
    "    blob = cv2.dnn.blobFromImage(frame, 0.00392, (size, size), (0, 0, 0), True, crop=False)\n",
    "\n",
    "    # 전처리된 blob 네트워크에 입력\n",
    "    net.setInput(blob)\n",
    "\n",
    "    # 결과 받아오기\n",
    "    outs = net.forward(output_layers)\n",
    "\n",
    "    # 각각의 데이터를 저장할 빈 리스트\n",
    "    class_ids = []\n",
    "    confidences = []\n",
    "    boxes = []\n",
    "\n",
    "    for out in outs:\n",
    "        for detection in out:\n",
    "            scores = detection[5:]\n",
    "            class_id = np.argmax(scores)\n",
    "            confidence = scores[class_id]\n",
    "\n",
    "            if confidence > 0.6:\n",
    "                # 탐지된 객체의 너비, 높이 및 중앙 좌표값 찾기\n",
    "                center_x = int(detection[0] * width)\n",
    "                center_y = int(detection[1] * height)\n",
    "                w = int(detection[2] * width)\n",
    "                h = int(detection[3] * height)\n",
    "\n",
    "                # 객체의 사각형 테두리 중 좌상단 좌표값 찾기\n",
    "                x = int(center_x - w / 2)\n",
    "                y = int(center_y - h / 2)\n",
    "\n",
    "                boxes.append([x, y, w, h])\n",
    "                confidences.append(float(confidence))\n",
    "                class_ids.append(class_id)\n",
    "\n",
    "    # 후보 박스(x, y, width, height)와 confidence(상자가 물체일 확률) 출력\n",
    "    #print(f\"boxes: {boxes}\")\n",
    "    #print(f\"confidences: {confidences}\")\n",
    "\n",
    "    # Non Maximum Suppression (겹쳐있는 박스 중 confidence 가 가장 높은 박스를 선택)\n",
    "    indexes = cv2.dnn.NMSBoxes(boxes, confidences, score_threshold=score_threshold, nms_threshold=nms_threshold)\n",
    "    \n",
    "    # 후보 박스 중 선택된 박스의 인덱스 출력\n",
    "    #print(f\"indexes: \", end='')\n",
    "    #for index in indexes:\n",
    "        #print(index, end=' ')\n",
    "    #print(\"\\n\\n============================== classes ==============================\")\n",
    "\n",
    "    for i in range(len(boxes)):\n",
    "        if i in indexes:\n",
    "            x, y, w, h = boxes[i]\n",
    "            class_name = classes[class_ids[i]]\n",
    "            label = f\"{class_name} {confidences[i]:.2f}\"\n",
    "            color = colors[class_ids[i]]\n",
    "\n",
    "            # 사각형 테두리 그리기 및 텍스트 쓰기\n",
    "            cv2.rectangle(frame, (x, y), (x + w, y + h), color, 2)\n",
    "            cv2.rectangle(frame, (x - 1, y), (x + len(class_name) * 13 + 65, y - 25), color, -1)\n",
    "            cv2.putText(frame, label, (x, y - 8), cv2.FONT_HERSHEY_COMPLEX_SMALL, 1, (0, 0, 0), 2)\n",
    "            \n",
    "            # 탐지된 객체의 정보 출력\n",
    "            #print(f\"[{class_name}({i})] conf: {confidences[i]} / x: {x} / y: {y} / width: {w} / height: {h}\")\n",
    "\n",
    "    return frame"
   ]
  },
  {
   "cell_type": "code",
   "execution_count": 3,
   "id": "0f3ef21d",
   "metadata": {},
   "outputs": [],
   "source": [
    "# 클래스 리스트\n",
    "classes = []\n",
    "with open(\"yolo.names\", \"r\") as f:\n",
    "    classes = [line.strip() for line in f.readlines()]\n",
    "    \n",
    "# 입력 사이즈 리스트 (Yolo 에서 사용되는 네크워크 입력 이미지 사이즈)\n",
    "size_list = [320, 416, 608]\n",
    "\n",
    "#카메라 열기 \n",
    "cap = cv2.VideoCapture(0)\n",
    "\n",
    "while True:\n",
    "    #카메라로 부터 사진 한장 읽기 \n",
    "    ret, frame = cap.read()\n",
    "    \n",
    "    frame = cv2.flip(frame, 1)\n",
    "    \n",
    "    frame = yolo(frame=frame, size=size_list[1], score_threshold=0.4, nms_threshold=0.4)\n",
    "    \n",
    "    cv2.imshow('test', frame)\n",
    "    \n",
    "    if cv2.waitKey(1)==13:\n",
    "        break\n",
    "cap.release()\n",
    "cv2.destroyAllWindows()"
   ]
  },
  {
   "cell_type": "code",
   "execution_count": null,
   "id": "f3c08544",
   "metadata": {},
   "outputs": [],
   "source": []
  }
 ],
 "metadata": {
  "kernelspec": {
   "display_name": "Python 3",
   "language": "python",
   "name": "python3"
  },
  "language_info": {
   "codemirror_mode": {
    "name": "ipython",
    "version": 3
   },
   "file_extension": ".py",
   "mimetype": "text/x-python",
   "name": "python",
   "nbconvert_exporter": "python",
   "pygments_lexer": "ipython3",
   "version": "3.7.10"
  }
 },
 "nbformat": 4,
 "nbformat_minor": 5
}
