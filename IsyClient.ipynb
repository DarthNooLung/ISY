{
 "cells": [
  {
   "cell_type": "code",
   "execution_count": 12,
   "id": "2b53fca3",
   "metadata": {},
   "outputs": [],
   "source": [
    "import cv2\n",
    "import numpy as np\n",
    "import time\n",
    "import base64\n",
    "import socketio"
   ]
  },
  {
   "cell_type": "code",
   "execution_count": 15,
   "id": "3014c415",
   "metadata": {},
   "outputs": [],
   "source": [
    "#카메라 열기 \n",
    "cap = cv2.VideoCapture(0)\n",
    "\n",
    "#카메라 Width Height 설정\n",
    "cap.set(cv2.CAP_PROP_FRAME_WIDTH, 640)\n",
    "cap.set(cv2.CAP_PROP_FRAME_HEIGHT, 480)\n",
    "\n",
    "#인코딩용 전송 파라미터 설정\n",
    "encode_param = [int(cv2.IMWRITE_JPEG_QUALITY), 90]\n",
    "\n",
    "#소켓통신을 위한 준비\n",
    "isSocket = True\n",
    "\n",
    "#소켓 호출 에러시 처리하기 위한 부분\n",
    "try:\n",
    "    sio = socketio.Client()\n",
    "    sio.connect('http://localhost:746')\n",
    "except:\n",
    "    isSocket = False\n",
    "\n",
    "if isSocket == True:\n",
    "    while True:\n",
    "        time.sleep(0.1)\n",
    "        #카메라로 부터 사진 한장 읽기 \n",
    "        ret, frame = cap.read()\n",
    "\n",
    "        frame = cv2.flip(frame, 1)\n",
    "        \n",
    "        scResult, scFrame = cv2.imencode('.jpg', frame, encode_param)        \n",
    "        scData = base64.b64encode(scFrame)\n",
    "\n",
    "        #소켓으로 이미지 전송\n",
    "        sio.emit('streaming', scData)\n",
    "        \n",
    "        cv2.imshow('Person Detect Client', frame)\n",
    "\n",
    "        if cv2.waitKey(1) == 13:\n",
    "            break\n",
    "\n",
    "    sio.disconnect()\n",
    "    cap.release()\n",
    "    cv2.destroyAllWindows()    \n",
    "else:\n",
    "    print(\"소켓접속 불량\")"
   ]
  },
  {
   "cell_type": "code",
   "execution_count": null,
   "id": "a35dba3c",
   "metadata": {},
   "outputs": [],
   "source": []
  }
 ],
 "metadata": {
  "kernelspec": {
   "display_name": "Python 3",
   "language": "python",
   "name": "python3"
  },
  "language_info": {
   "codemirror_mode": {
    "name": "ipython",
    "version": 3
   },
   "file_extension": ".py",
   "mimetype": "text/x-python",
   "name": "python",
   "nbconvert_exporter": "python",
   "pygments_lexer": "ipython3",
   "version": "3.7.10"
  }
 },
 "nbformat": 4,
 "nbformat_minor": 5
}
